{
 "cells": [
  {
   "cell_type": "markdown",
   "id": "dce6fb12",
   "metadata": {},
   "source": [
    "<h2>polynomial-regression </h2>\n",
    "<a href=\"https://colab.research.google.com/github/thedhruvish/ml-algorithms-project/blob/main/polynomial-regression/project-BCF.ipynb\">\n",
    "<img src=\"https://raw.githubusercontent.com/thedhruvish/dataset-machine-learning/refs/heads/main/public/colab.svg\" alt=\"colab svg\"></a>\n",
    "<h3>BCF Dataset </h3>"
   ]
  },
  {
   "cell_type": "code",
   "execution_count": 1,
   "id": "49537485",
   "metadata": {},
   "outputs": [],
   "source": [
    "import pandas as pd\n",
    "import numpy as np\n",
    "from matplotlib import pyplot as plt\n",
    "import seaborn as sns"
   ]
  },
  {
   "cell_type": "code",
   "execution_count": 2,
   "id": "1fd4ccfd",
   "metadata": {},
   "outputs": [],
   "source": [
    "df = pd.read_csv(\"https://raw.githubusercontent.com/thedhruvish/dataset-machine-learning/refs/heads/main/ml-algorithms-project/BCF.csv\")"
   ]
  },
  {
   "cell_type": "code",
   "execution_count": 3,
   "id": "560a7df3",
   "metadata": {},
   "outputs": [],
   "source": [
    "df = df.drop(columns=['date'])"
   ]
  },
  {
   "cell_type": "code",
   "execution_count": 4,
   "id": "360d6345",
   "metadata": {},
   "outputs": [
    {
     "data": {
      "application/vnd.microsoft.datawrangler.viewer.v0+json": {
       "columns": [
        {
         "name": "index",
         "rawType": "int64",
         "type": "integer"
        },
        {
         "name": "values.I2P",
         "rawType": "float64",
         "type": "float"
        },
        {
         "name": "values.P2I",
         "rawType": "float64",
         "type": "float"
        },
        {
         "name": "values.JPI",
         "rawType": "float64",
         "type": "float"
        }
       ],
       "ref": "202641df-7780-47b3-84ad-98ecc7730cef",
       "rows": [
        [
         "0",
         "-2.58055555555556",
         "-0.836444444444445",
         "63.3"
        ],
        [
         "1",
         "-2.88225806451613",
         "-1.97258064516129",
         "66.3"
        ],
        [
         "2",
         "-1.74277777777778",
         "-0.478777777777778",
         "59.7"
        ],
        [
         "3",
         "-0.397795698924731",
         "-1.57430107526882",
         "63.3"
        ],
        [
         "4",
         "-0.977150537634409",
         "-1.79731182795699",
         "63.8"
        ],
        [
         "5",
         "-0.936512987012987",
         "-0.380497354497355",
         "60.5"
        ],
        [
         "6",
         "-1.85338709677419",
         "-0.593655913978495",
         "63.1"
        ],
        [
         "7",
         "-2.11372222222222",
         "-2.03777777777778",
         "63.6"
        ],
        [
         "8",
         "-2.70317204301075",
         "-1.00725806451613",
         "62.5"
        ],
        [
         "9",
         "-1.2073732718894",
         "-0.539354838709677",
         "59.5"
        ],
        [
         "10",
         "-1.43095238095238",
         "-1.06488095238095",
         "55.8"
        ],
        [
         "11",
         "-2.02937788018433",
         "-3.08069892473118",
         "61.0"
        ],
        [
         "12",
         "-3.49272222222222",
         "-1.05111111111111",
         "61.0"
        ],
        [
         "13",
         "-0.919354838709677",
         "-0.144086021505376",
         "62.0"
        ],
        [
         "14",
         "-4.20027777777778",
         "-1.99888888888889",
         "61.0"
        ],
        [
         "15",
         "-3.33521505376344",
         "-1.19247311827957",
         "62.0"
        ],
        [
         "16",
         "-3.39978494623656",
         "-2.59677419354839",
         "59.4"
        ],
        [
         "17",
         "-3.52288888888889",
         "-2.70333333333333",
         "57.3"
        ],
        [
         "18",
         "-3.71150537634409",
         "-0.838709677419355",
         "64.1"
        ],
        [
         "19",
         "-3.25861111111111",
         "-1.44055555555556",
         "60.6"
        ],
        [
         "20",
         "-2.00994623655914",
         "-0.506182795698925",
         "60.6"
        ],
        [
         "21",
         "-1.36866359447005",
         "-1.3241935483871",
         "64.6"
        ],
        [
         "22",
         "-2.63220238095238",
         "-0.760714285714286",
         "62.4"
        ],
        [
         "23",
         "-4.69397849462366",
         "-1.42311827956989",
         "59.0"
        ],
        [
         "24",
         "-1.13277777777778",
         "-1.45888888888889",
         "60.2"
        ],
        [
         "25",
         "-3.15483870967742",
         "-1.65698924731183",
         "58.1"
        ],
        [
         "26",
         "-1.81444444444444",
         "-2.08444444444444",
         "62.5"
        ],
        [
         "27",
         "0.0",
         "0.0",
         "50.9"
        ],
        [
         "28",
         "0.0",
         "0.0",
         "56.7"
        ],
        [
         "29",
         "-5.02138888888889",
         "-0.695",
         "58.4"
        ],
        [
         "30",
         "-0.824769585253456",
         "-0.759101382488479",
         "58.9"
        ],
        [
         "31",
         "-2.928",
         "-1.81911111111111",
         "63.9"
        ],
        [
         "32",
         "-1.42215053763441",
         "-2.56881720430108",
         "59.6"
        ],
        [
         "33",
         "-1.55430107526882",
         "-0.408064516129032",
         "64.5"
        ],
        [
         "34",
         "-2.00190476190476",
         "-0.878571428571429",
         "65.7"
        ],
        [
         "35",
         "-2.69623655913978",
         "-1.20645161290323",
         "64.5"
        ],
        [
         "36",
         "-2.13722222222222",
         "-0.188333333333333",
         "66.8"
        ],
        [
         "37",
         "-2.12483870967742",
         "-0.894086021505376",
         "67.1"
        ],
        [
         "38",
         "-1.1",
         "-0.668333333333333",
         "65.0"
        ],
        [
         "39",
         "-0.356451612903226",
         "-0.0994623655913979",
         "64.7"
        ],
        [
         "40",
         "-1.19155913978495",
         "-0.0731182795698925",
         "63.3"
        ],
        [
         "41",
         "0.123571428571429",
         "0.492444444444444",
         "61.2"
        ],
        [
         "42",
         "-0.774408602150538",
         "-0.828387096774194",
         "61.2"
        ],
        [
         "43",
         "-1.17233333333333",
         "-0.28",
         "62.4"
        ],
        [
         "44",
         "-0.575806451612903",
         "-0.366129032258064",
         "59.9"
        ],
        [
         "45",
         "-0.144301075268817",
         "-0.434139784946237",
         "58.6"
        ],
        [
         "46",
         "-0.586206896551724",
         "-0.967241379310345",
         "55.9"
        ],
        [
         "47",
         "-0.470967741935484",
         "-0.176344086021505",
         "54.0"
        ],
        [
         "48",
         "0.180555555555556",
         "-0.170833333333333",
         "56.4"
        ],
        [
         "49",
         "-2.3258064516129",
         "-0.123118279569892",
         "54.3"
        ]
       ],
       "shape": {
        "columns": 3,
        "rows": 117
       }
      },
      "text/html": [
       "<div>\n",
       "<style scoped>\n",
       "    .dataframe tbody tr th:only-of-type {\n",
       "        vertical-align: middle;\n",
       "    }\n",
       "\n",
       "    .dataframe tbody tr th {\n",
       "        vertical-align: top;\n",
       "    }\n",
       "\n",
       "    .dataframe thead th {\n",
       "        text-align: right;\n",
       "    }\n",
       "</style>\n",
       "<table border=\"1\" class=\"dataframe\">\n",
       "  <thead>\n",
       "    <tr style=\"text-align: right;\">\n",
       "      <th></th>\n",
       "      <th>values.I2P</th>\n",
       "      <th>values.P2I</th>\n",
       "      <th>values.JPI</th>\n",
       "    </tr>\n",
       "  </thead>\n",
       "  <tbody>\n",
       "    <tr>\n",
       "      <th>0</th>\n",
       "      <td>-2.580556</td>\n",
       "      <td>-0.836444</td>\n",
       "      <td>63.3</td>\n",
       "    </tr>\n",
       "    <tr>\n",
       "      <th>1</th>\n",
       "      <td>-2.882258</td>\n",
       "      <td>-1.972581</td>\n",
       "      <td>66.3</td>\n",
       "    </tr>\n",
       "    <tr>\n",
       "      <th>2</th>\n",
       "      <td>-1.742778</td>\n",
       "      <td>-0.478778</td>\n",
       "      <td>59.7</td>\n",
       "    </tr>\n",
       "    <tr>\n",
       "      <th>3</th>\n",
       "      <td>-0.397796</td>\n",
       "      <td>-1.574301</td>\n",
       "      <td>63.3</td>\n",
       "    </tr>\n",
       "    <tr>\n",
       "      <th>4</th>\n",
       "      <td>-0.977151</td>\n",
       "      <td>-1.797312</td>\n",
       "      <td>63.8</td>\n",
       "    </tr>\n",
       "    <tr>\n",
       "      <th>...</th>\n",
       "      <td>...</td>\n",
       "      <td>...</td>\n",
       "      <td>...</td>\n",
       "    </tr>\n",
       "    <tr>\n",
       "      <th>112</th>\n",
       "      <td>-2.144935</td>\n",
       "      <td>-1.646989</td>\n",
       "      <td>49.0</td>\n",
       "    </tr>\n",
       "    <tr>\n",
       "      <th>113</th>\n",
       "      <td>-3.543270</td>\n",
       "      <td>-1.769889</td>\n",
       "      <td>49.9</td>\n",
       "    </tr>\n",
       "    <tr>\n",
       "      <th>114</th>\n",
       "      <td>-4.500484</td>\n",
       "      <td>-2.309946</td>\n",
       "      <td>50.6</td>\n",
       "    </tr>\n",
       "    <tr>\n",
       "      <th>115</th>\n",
       "      <td>-4.098556</td>\n",
       "      <td>-1.528611</td>\n",
       "      <td>57.4</td>\n",
       "    </tr>\n",
       "    <tr>\n",
       "      <th>116</th>\n",
       "      <td>-5.797043</td>\n",
       "      <td>-2.872849</td>\n",
       "      <td>52.9</td>\n",
       "    </tr>\n",
       "  </tbody>\n",
       "</table>\n",
       "<p>117 rows × 3 columns</p>\n",
       "</div>"
      ],
      "text/plain": [
       "     values.I2P  values.P2I  values.JPI\n",
       "0     -2.580556   -0.836444        63.3\n",
       "1     -2.882258   -1.972581        66.3\n",
       "2     -1.742778   -0.478778        59.7\n",
       "3     -0.397796   -1.574301        63.3\n",
       "4     -0.977151   -1.797312        63.8\n",
       "..          ...         ...         ...\n",
       "112   -2.144935   -1.646989        49.0\n",
       "113   -3.543270   -1.769889        49.9\n",
       "114   -4.500484   -2.309946        50.6\n",
       "115   -4.098556   -1.528611        57.4\n",
       "116   -5.797043   -2.872849        52.9\n",
       "\n",
       "[117 rows x 3 columns]"
      ]
     },
     "execution_count": 4,
     "metadata": {},
     "output_type": "execute_result"
    }
   ],
   "source": [
    "df"
   ]
  },
  {
   "cell_type": "code",
   "execution_count": 5,
   "id": "d1d3d782",
   "metadata": {},
   "outputs": [
    {
     "data": {
      "application/vnd.microsoft.datawrangler.viewer.v0+json": {
       "columns": [
        {
         "name": "index",
         "rawType": "object",
         "type": "string"
        },
        {
         "name": "0",
         "rawType": "int64",
         "type": "integer"
        }
       ],
       "ref": "7a206851-2524-4eb1-baab-4a3fcfb5aa6b",
       "rows": [
        [
         "values.I2P",
         "0"
        ],
        [
         "values.P2I",
         "0"
        ],
        [
         "values.JPI",
         "0"
        ]
       ],
       "shape": {
        "columns": 1,
        "rows": 3
       }
      },
      "text/plain": [
       "values.I2P    0\n",
       "values.P2I    0\n",
       "values.JPI    0\n",
       "dtype: int64"
      ]
     },
     "execution_count": 5,
     "metadata": {},
     "output_type": "execute_result"
    }
   ],
   "source": [
    "df.isnull().sum()"
   ]
  },
  {
   "cell_type": "code",
   "execution_count": 6,
   "id": "cefa753f",
   "metadata": {},
   "outputs": [
    {
     "data": {
      "application/vnd.microsoft.datawrangler.viewer.v0+json": {
       "columns": [
        {
         "name": "index",
         "rawType": "int64",
         "type": "integer"
        },
        {
         "name": "values.I2P",
         "rawType": "float64",
         "type": "float"
        },
        {
         "name": "values.P2I",
         "rawType": "float64",
         "type": "float"
        },
        {
         "name": "values.JPI",
         "rawType": "float64",
         "type": "float"
        }
       ],
       "ref": "8e733ac2-363c-4a1f-a853-ddf60dba5359",
       "rows": [
        [
         "0",
         "-2.58055555555556",
         "-0.836444444444445",
         "63.3"
        ],
        [
         "1",
         "-2.88225806451613",
         "-1.97258064516129",
         "66.3"
        ],
        [
         "2",
         "-1.74277777777778",
         "-0.478777777777778",
         "59.7"
        ],
        [
         "3",
         "-0.397795698924731",
         "-1.57430107526882",
         "63.3"
        ],
        [
         "4",
         "-0.977150537634409",
         "-1.79731182795699",
         "63.8"
        ],
        [
         "5",
         "-0.936512987012987",
         "-0.380497354497355",
         "60.5"
        ],
        [
         "6",
         "-1.85338709677419",
         "-0.593655913978495",
         "63.1"
        ],
        [
         "7",
         "-2.11372222222222",
         "-2.03777777777778",
         "63.6"
        ],
        [
         "8",
         "-2.70317204301075",
         "-1.00725806451613",
         "62.5"
        ],
        [
         "9",
         "-1.2073732718894",
         "-0.539354838709677",
         "59.5"
        ],
        [
         "10",
         "-1.43095238095238",
         "-1.06488095238095",
         "55.8"
        ],
        [
         "11",
         "-2.02937788018433",
         "-3.08069892473118",
         "61.0"
        ],
        [
         "12",
         "-3.49272222222222",
         "-1.05111111111111",
         "61.0"
        ],
        [
         "13",
         "-0.919354838709677",
         "-0.144086021505376",
         "62.0"
        ],
        [
         "14",
         "-4.20027777777778",
         "-1.99888888888889",
         "61.0"
        ],
        [
         "15",
         "-3.33521505376344",
         "-1.19247311827957",
         "62.0"
        ],
        [
         "16",
         "-3.39978494623656",
         "-2.59677419354839",
         "59.4"
        ],
        [
         "17",
         "-3.52288888888889",
         "-2.70333333333333",
         "57.3"
        ],
        [
         "18",
         "-3.71150537634409",
         "-0.838709677419355",
         "64.1"
        ],
        [
         "19",
         "-3.25861111111111",
         "-1.44055555555556",
         "60.6"
        ],
        [
         "20",
         "-2.00994623655914",
         "-0.506182795698925",
         "60.6"
        ],
        [
         "21",
         "-1.36866359447005",
         "-1.3241935483871",
         "64.6"
        ],
        [
         "22",
         "-2.63220238095238",
         "-0.760714285714286",
         "62.4"
        ],
        [
         "23",
         "-4.69397849462366",
         "-1.42311827956989",
         "59.0"
        ],
        [
         "24",
         "-1.13277777777778",
         "-1.45888888888889",
         "60.2"
        ],
        [
         "25",
         "-3.15483870967742",
         "-1.65698924731183",
         "58.1"
        ],
        [
         "26",
         "-1.81444444444444",
         "-2.08444444444444",
         "62.5"
        ],
        [
         "27",
         "0.0",
         "0.0",
         "50.9"
        ],
        [
         "28",
         "0.0",
         "0.0",
         "56.7"
        ],
        [
         "29",
         "-5.02138888888889",
         "-0.695",
         "58.4"
        ],
        [
         "30",
         "-0.824769585253456",
         "-0.759101382488479",
         "58.9"
        ],
        [
         "31",
         "-2.928",
         "-1.81911111111111",
         "63.9"
        ],
        [
         "32",
         "-1.42215053763441",
         "-2.56881720430108",
         "59.6"
        ],
        [
         "33",
         "-1.55430107526882",
         "-0.408064516129032",
         "64.5"
        ],
        [
         "34",
         "-2.00190476190476",
         "-0.878571428571429",
         "65.7"
        ],
        [
         "35",
         "-2.69623655913978",
         "-1.20645161290323",
         "64.5"
        ],
        [
         "36",
         "-2.13722222222222",
         "-0.188333333333333",
         "66.8"
        ],
        [
         "37",
         "-2.12483870967742",
         "-0.894086021505376",
         "67.1"
        ],
        [
         "38",
         "-1.1",
         "-0.668333333333333",
         "65.0"
        ],
        [
         "39",
         "-0.356451612903226",
         "-0.0994623655913979",
         "64.7"
        ],
        [
         "40",
         "-1.19155913978495",
         "-0.0731182795698925",
         "63.3"
        ],
        [
         "41",
         "0.123571428571429",
         "0.492444444444444",
         "61.2"
        ],
        [
         "42",
         "-0.774408602150538",
         "-0.828387096774194",
         "61.2"
        ],
        [
         "43",
         "-1.17233333333333",
         "-0.28",
         "62.4"
        ],
        [
         "44",
         "-0.575806451612903",
         "-0.366129032258064",
         "59.9"
        ],
        [
         "45",
         "-0.144301075268817",
         "-0.434139784946237",
         "58.6"
        ],
        [
         "46",
         "-0.586206896551724",
         "-0.967241379310345",
         "55.9"
        ],
        [
         "47",
         "-0.470967741935484",
         "-0.176344086021505",
         "54.0"
        ],
        [
         "48",
         "0.180555555555556",
         "-0.170833333333333",
         "56.4"
        ],
        [
         "49",
         "-2.3258064516129",
         "-0.123118279569892",
         "54.3"
        ]
       ],
       "shape": {
        "columns": 3,
        "rows": 117
       }
      },
      "text/html": [
       "<div>\n",
       "<style scoped>\n",
       "    .dataframe tbody tr th:only-of-type {\n",
       "        vertical-align: middle;\n",
       "    }\n",
       "\n",
       "    .dataframe tbody tr th {\n",
       "        vertical-align: top;\n",
       "    }\n",
       "\n",
       "    .dataframe thead th {\n",
       "        text-align: right;\n",
       "    }\n",
       "</style>\n",
       "<table border=\"1\" class=\"dataframe\">\n",
       "  <thead>\n",
       "    <tr style=\"text-align: right;\">\n",
       "      <th></th>\n",
       "      <th>values.I2P</th>\n",
       "      <th>values.P2I</th>\n",
       "      <th>values.JPI</th>\n",
       "    </tr>\n",
       "  </thead>\n",
       "  <tbody>\n",
       "    <tr>\n",
       "      <th>0</th>\n",
       "      <td>-2.580556</td>\n",
       "      <td>-0.836444</td>\n",
       "      <td>63.3</td>\n",
       "    </tr>\n",
       "    <tr>\n",
       "      <th>1</th>\n",
       "      <td>-2.882258</td>\n",
       "      <td>-1.972581</td>\n",
       "      <td>66.3</td>\n",
       "    </tr>\n",
       "    <tr>\n",
       "      <th>2</th>\n",
       "      <td>-1.742778</td>\n",
       "      <td>-0.478778</td>\n",
       "      <td>59.7</td>\n",
       "    </tr>\n",
       "    <tr>\n",
       "      <th>3</th>\n",
       "      <td>-0.397796</td>\n",
       "      <td>-1.574301</td>\n",
       "      <td>63.3</td>\n",
       "    </tr>\n",
       "    <tr>\n",
       "      <th>4</th>\n",
       "      <td>-0.977151</td>\n",
       "      <td>-1.797312</td>\n",
       "      <td>63.8</td>\n",
       "    </tr>\n",
       "    <tr>\n",
       "      <th>...</th>\n",
       "      <td>...</td>\n",
       "      <td>...</td>\n",
       "      <td>...</td>\n",
       "    </tr>\n",
       "    <tr>\n",
       "      <th>112</th>\n",
       "      <td>-2.144935</td>\n",
       "      <td>-1.646989</td>\n",
       "      <td>49.0</td>\n",
       "    </tr>\n",
       "    <tr>\n",
       "      <th>113</th>\n",
       "      <td>-3.543270</td>\n",
       "      <td>-1.769889</td>\n",
       "      <td>49.9</td>\n",
       "    </tr>\n",
       "    <tr>\n",
       "      <th>114</th>\n",
       "      <td>-4.500484</td>\n",
       "      <td>-2.309946</td>\n",
       "      <td>50.6</td>\n",
       "    </tr>\n",
       "    <tr>\n",
       "      <th>115</th>\n",
       "      <td>-4.098556</td>\n",
       "      <td>-1.528611</td>\n",
       "      <td>57.4</td>\n",
       "    </tr>\n",
       "    <tr>\n",
       "      <th>116</th>\n",
       "      <td>-5.797043</td>\n",
       "      <td>-2.872849</td>\n",
       "      <td>52.9</td>\n",
       "    </tr>\n",
       "  </tbody>\n",
       "</table>\n",
       "<p>117 rows × 3 columns</p>\n",
       "</div>"
      ],
      "text/plain": [
       "     values.I2P  values.P2I  values.JPI\n",
       "0     -2.580556   -0.836444        63.3\n",
       "1     -2.882258   -1.972581        66.3\n",
       "2     -1.742778   -0.478778        59.7\n",
       "3     -0.397796   -1.574301        63.3\n",
       "4     -0.977151   -1.797312        63.8\n",
       "..          ...         ...         ...\n",
       "112   -2.144935   -1.646989        49.0\n",
       "113   -3.543270   -1.769889        49.9\n",
       "114   -4.500484   -2.309946        50.6\n",
       "115   -4.098556   -1.528611        57.4\n",
       "116   -5.797043   -2.872849        52.9\n",
       "\n",
       "[117 rows x 3 columns]"
      ]
     },
     "execution_count": 6,
     "metadata": {},
     "output_type": "execute_result"
    }
   ],
   "source": [
    "df"
   ]
  },
  {
   "cell_type": "code",
   "execution_count": 7,
   "id": "67e29b09",
   "metadata": {},
   "outputs": [],
   "source": [
    "X = df.drop(columns=['values.JPI'])\n",
    "y = df['values.I2P']"
   ]
  },
  {
   "cell_type": "code",
   "execution_count": 8,
   "id": "f1986d63",
   "metadata": {},
   "outputs": [],
   "source": [
    "from sklearn.model_selection import train_test_split\n",
    "X_train,X_test,y_train,y_test = train_test_split(X,y,random_state=51,test_size=0.15)"
   ]
  },
  {
   "cell_type": "code",
   "execution_count": 9,
   "id": "aafeaec1",
   "metadata": {},
   "outputs": [],
   "source": [
    "from sklearn.preprocessing import PolynomialFeatures\n",
    "from sklearn.linear_model import LinearRegression\n",
    "poly = PolynomialFeatures()"
   ]
  },
  {
   "cell_type": "code",
   "execution_count": 10,
   "id": "541991e1",
   "metadata": {},
   "outputs": [],
   "source": [
    "X_train_poly  = poly.fit_transform(X_train)\n",
    "X_test_poly = poly.transform(X_test)  "
   ]
  },
  {
   "cell_type": "code",
   "execution_count": 11,
   "id": "23de0437",
   "metadata": {},
   "outputs": [
    {
     "data": {
      "text/html": [
       "<style>#sk-container-id-1 {\n",
       "  /* Definition of color scheme common for light and dark mode */\n",
       "  --sklearn-color-text: #000;\n",
       "  --sklearn-color-text-muted: #666;\n",
       "  --sklearn-color-line: gray;\n",
       "  /* Definition of color scheme for unfitted estimators */\n",
       "  --sklearn-color-unfitted-level-0: #fff5e6;\n",
       "  --sklearn-color-unfitted-level-1: #f6e4d2;\n",
       "  --sklearn-color-unfitted-level-2: #ffe0b3;\n",
       "  --sklearn-color-unfitted-level-3: chocolate;\n",
       "  /* Definition of color scheme for fitted estimators */\n",
       "  --sklearn-color-fitted-level-0: #f0f8ff;\n",
       "  --sklearn-color-fitted-level-1: #d4ebff;\n",
       "  --sklearn-color-fitted-level-2: #b3dbfd;\n",
       "  --sklearn-color-fitted-level-3: cornflowerblue;\n",
       "\n",
       "  /* Specific color for light theme */\n",
       "  --sklearn-color-text-on-default-background: var(--sg-text-color, var(--theme-code-foreground, var(--jp-content-font-color1, black)));\n",
       "  --sklearn-color-background: var(--sg-background-color, var(--theme-background, var(--jp-layout-color0, white)));\n",
       "  --sklearn-color-border-box: var(--sg-text-color, var(--theme-code-foreground, var(--jp-content-font-color1, black)));\n",
       "  --sklearn-color-icon: #696969;\n",
       "\n",
       "  @media (prefers-color-scheme: dark) {\n",
       "    /* Redefinition of color scheme for dark theme */\n",
       "    --sklearn-color-text-on-default-background: var(--sg-text-color, var(--theme-code-foreground, var(--jp-content-font-color1, white)));\n",
       "    --sklearn-color-background: var(--sg-background-color, var(--theme-background, var(--jp-layout-color0, #111)));\n",
       "    --sklearn-color-border-box: var(--sg-text-color, var(--theme-code-foreground, var(--jp-content-font-color1, white)));\n",
       "    --sklearn-color-icon: #878787;\n",
       "  }\n",
       "}\n",
       "\n",
       "#sk-container-id-1 {\n",
       "  color: var(--sklearn-color-text);\n",
       "}\n",
       "\n",
       "#sk-container-id-1 pre {\n",
       "  padding: 0;\n",
       "}\n",
       "\n",
       "#sk-container-id-1 input.sk-hidden--visually {\n",
       "  border: 0;\n",
       "  clip: rect(1px 1px 1px 1px);\n",
       "  clip: rect(1px, 1px, 1px, 1px);\n",
       "  height: 1px;\n",
       "  margin: -1px;\n",
       "  overflow: hidden;\n",
       "  padding: 0;\n",
       "  position: absolute;\n",
       "  width: 1px;\n",
       "}\n",
       "\n",
       "#sk-container-id-1 div.sk-dashed-wrapped {\n",
       "  border: 1px dashed var(--sklearn-color-line);\n",
       "  margin: 0 0.4em 0.5em 0.4em;\n",
       "  box-sizing: border-box;\n",
       "  padding-bottom: 0.4em;\n",
       "  background-color: var(--sklearn-color-background);\n",
       "}\n",
       "\n",
       "#sk-container-id-1 div.sk-container {\n",
       "  /* jupyter's `normalize.less` sets `[hidden] { display: none; }`\n",
       "     but bootstrap.min.css set `[hidden] { display: none !important; }`\n",
       "     so we also need the `!important` here to be able to override the\n",
       "     default hidden behavior on the sphinx rendered scikit-learn.org.\n",
       "     See: https://github.com/scikit-learn/scikit-learn/issues/21755 */\n",
       "  display: inline-block !important;\n",
       "  position: relative;\n",
       "}\n",
       "\n",
       "#sk-container-id-1 div.sk-text-repr-fallback {\n",
       "  display: none;\n",
       "}\n",
       "\n",
       "div.sk-parallel-item,\n",
       "div.sk-serial,\n",
       "div.sk-item {\n",
       "  /* draw centered vertical line to link estimators */\n",
       "  background-image: linear-gradient(var(--sklearn-color-text-on-default-background), var(--sklearn-color-text-on-default-background));\n",
       "  background-size: 2px 100%;\n",
       "  background-repeat: no-repeat;\n",
       "  background-position: center center;\n",
       "}\n",
       "\n",
       "/* Parallel-specific style estimator block */\n",
       "\n",
       "#sk-container-id-1 div.sk-parallel-item::after {\n",
       "  content: \"\";\n",
       "  width: 100%;\n",
       "  border-bottom: 2px solid var(--sklearn-color-text-on-default-background);\n",
       "  flex-grow: 1;\n",
       "}\n",
       "\n",
       "#sk-container-id-1 div.sk-parallel {\n",
       "  display: flex;\n",
       "  align-items: stretch;\n",
       "  justify-content: center;\n",
       "  background-color: var(--sklearn-color-background);\n",
       "  position: relative;\n",
       "}\n",
       "\n",
       "#sk-container-id-1 div.sk-parallel-item {\n",
       "  display: flex;\n",
       "  flex-direction: column;\n",
       "}\n",
       "\n",
       "#sk-container-id-1 div.sk-parallel-item:first-child::after {\n",
       "  align-self: flex-end;\n",
       "  width: 50%;\n",
       "}\n",
       "\n",
       "#sk-container-id-1 div.sk-parallel-item:last-child::after {\n",
       "  align-self: flex-start;\n",
       "  width: 50%;\n",
       "}\n",
       "\n",
       "#sk-container-id-1 div.sk-parallel-item:only-child::after {\n",
       "  width: 0;\n",
       "}\n",
       "\n",
       "/* Serial-specific style estimator block */\n",
       "\n",
       "#sk-container-id-1 div.sk-serial {\n",
       "  display: flex;\n",
       "  flex-direction: column;\n",
       "  align-items: center;\n",
       "  background-color: var(--sklearn-color-background);\n",
       "  padding-right: 1em;\n",
       "  padding-left: 1em;\n",
       "}\n",
       "\n",
       "\n",
       "/* Toggleable style: style used for estimator/Pipeline/ColumnTransformer box that is\n",
       "clickable and can be expanded/collapsed.\n",
       "- Pipeline and ColumnTransformer use this feature and define the default style\n",
       "- Estimators will overwrite some part of the style using the `sk-estimator` class\n",
       "*/\n",
       "\n",
       "/* Pipeline and ColumnTransformer style (default) */\n",
       "\n",
       "#sk-container-id-1 div.sk-toggleable {\n",
       "  /* Default theme specific background. It is overwritten whether we have a\n",
       "  specific estimator or a Pipeline/ColumnTransformer */\n",
       "  background-color: var(--sklearn-color-background);\n",
       "}\n",
       "\n",
       "/* Toggleable label */\n",
       "#sk-container-id-1 label.sk-toggleable__label {\n",
       "  cursor: pointer;\n",
       "  display: flex;\n",
       "  width: 100%;\n",
       "  margin-bottom: 0;\n",
       "  padding: 0.5em;\n",
       "  box-sizing: border-box;\n",
       "  text-align: center;\n",
       "  align-items: start;\n",
       "  justify-content: space-between;\n",
       "  gap: 0.5em;\n",
       "}\n",
       "\n",
       "#sk-container-id-1 label.sk-toggleable__label .caption {\n",
       "  font-size: 0.6rem;\n",
       "  font-weight: lighter;\n",
       "  color: var(--sklearn-color-text-muted);\n",
       "}\n",
       "\n",
       "#sk-container-id-1 label.sk-toggleable__label-arrow:before {\n",
       "  /* Arrow on the left of the label */\n",
       "  content: \"▸\";\n",
       "  float: left;\n",
       "  margin-right: 0.25em;\n",
       "  color: var(--sklearn-color-icon);\n",
       "}\n",
       "\n",
       "#sk-container-id-1 label.sk-toggleable__label-arrow:hover:before {\n",
       "  color: var(--sklearn-color-text);\n",
       "}\n",
       "\n",
       "/* Toggleable content - dropdown */\n",
       "\n",
       "#sk-container-id-1 div.sk-toggleable__content {\n",
       "  max-height: 0;\n",
       "  max-width: 0;\n",
       "  overflow: hidden;\n",
       "  text-align: left;\n",
       "  /* unfitted */\n",
       "  background-color: var(--sklearn-color-unfitted-level-0);\n",
       "}\n",
       "\n",
       "#sk-container-id-1 div.sk-toggleable__content.fitted {\n",
       "  /* fitted */\n",
       "  background-color: var(--sklearn-color-fitted-level-0);\n",
       "}\n",
       "\n",
       "#sk-container-id-1 div.sk-toggleable__content pre {\n",
       "  margin: 0.2em;\n",
       "  border-radius: 0.25em;\n",
       "  color: var(--sklearn-color-text);\n",
       "  /* unfitted */\n",
       "  background-color: var(--sklearn-color-unfitted-level-0);\n",
       "}\n",
       "\n",
       "#sk-container-id-1 div.sk-toggleable__content.fitted pre {\n",
       "  /* unfitted */\n",
       "  background-color: var(--sklearn-color-fitted-level-0);\n",
       "}\n",
       "\n",
       "#sk-container-id-1 input.sk-toggleable__control:checked~div.sk-toggleable__content {\n",
       "  /* Expand drop-down */\n",
       "  max-height: 200px;\n",
       "  max-width: 100%;\n",
       "  overflow: auto;\n",
       "}\n",
       "\n",
       "#sk-container-id-1 input.sk-toggleable__control:checked~label.sk-toggleable__label-arrow:before {\n",
       "  content: \"▾\";\n",
       "}\n",
       "\n",
       "/* Pipeline/ColumnTransformer-specific style */\n",
       "\n",
       "#sk-container-id-1 div.sk-label input.sk-toggleable__control:checked~label.sk-toggleable__label {\n",
       "  color: var(--sklearn-color-text);\n",
       "  background-color: var(--sklearn-color-unfitted-level-2);\n",
       "}\n",
       "\n",
       "#sk-container-id-1 div.sk-label.fitted input.sk-toggleable__control:checked~label.sk-toggleable__label {\n",
       "  background-color: var(--sklearn-color-fitted-level-2);\n",
       "}\n",
       "\n",
       "/* Estimator-specific style */\n",
       "\n",
       "/* Colorize estimator box */\n",
       "#sk-container-id-1 div.sk-estimator input.sk-toggleable__control:checked~label.sk-toggleable__label {\n",
       "  /* unfitted */\n",
       "  background-color: var(--sklearn-color-unfitted-level-2);\n",
       "}\n",
       "\n",
       "#sk-container-id-1 div.sk-estimator.fitted input.sk-toggleable__control:checked~label.sk-toggleable__label {\n",
       "  /* fitted */\n",
       "  background-color: var(--sklearn-color-fitted-level-2);\n",
       "}\n",
       "\n",
       "#sk-container-id-1 div.sk-label label.sk-toggleable__label,\n",
       "#sk-container-id-1 div.sk-label label {\n",
       "  /* The background is the default theme color */\n",
       "  color: var(--sklearn-color-text-on-default-background);\n",
       "}\n",
       "\n",
       "/* On hover, darken the color of the background */\n",
       "#sk-container-id-1 div.sk-label:hover label.sk-toggleable__label {\n",
       "  color: var(--sklearn-color-text);\n",
       "  background-color: var(--sklearn-color-unfitted-level-2);\n",
       "}\n",
       "\n",
       "/* Label box, darken color on hover, fitted */\n",
       "#sk-container-id-1 div.sk-label.fitted:hover label.sk-toggleable__label.fitted {\n",
       "  color: var(--sklearn-color-text);\n",
       "  background-color: var(--sklearn-color-fitted-level-2);\n",
       "}\n",
       "\n",
       "/* Estimator label */\n",
       "\n",
       "#sk-container-id-1 div.sk-label label {\n",
       "  font-family: monospace;\n",
       "  font-weight: bold;\n",
       "  display: inline-block;\n",
       "  line-height: 1.2em;\n",
       "}\n",
       "\n",
       "#sk-container-id-1 div.sk-label-container {\n",
       "  text-align: center;\n",
       "}\n",
       "\n",
       "/* Estimator-specific */\n",
       "#sk-container-id-1 div.sk-estimator {\n",
       "  font-family: monospace;\n",
       "  border: 1px dotted var(--sklearn-color-border-box);\n",
       "  border-radius: 0.25em;\n",
       "  box-sizing: border-box;\n",
       "  margin-bottom: 0.5em;\n",
       "  /* unfitted */\n",
       "  background-color: var(--sklearn-color-unfitted-level-0);\n",
       "}\n",
       "\n",
       "#sk-container-id-1 div.sk-estimator.fitted {\n",
       "  /* fitted */\n",
       "  background-color: var(--sklearn-color-fitted-level-0);\n",
       "}\n",
       "\n",
       "/* on hover */\n",
       "#sk-container-id-1 div.sk-estimator:hover {\n",
       "  /* unfitted */\n",
       "  background-color: var(--sklearn-color-unfitted-level-2);\n",
       "}\n",
       "\n",
       "#sk-container-id-1 div.sk-estimator.fitted:hover {\n",
       "  /* fitted */\n",
       "  background-color: var(--sklearn-color-fitted-level-2);\n",
       "}\n",
       "\n",
       "/* Specification for estimator info (e.g. \"i\" and \"?\") */\n",
       "\n",
       "/* Common style for \"i\" and \"?\" */\n",
       "\n",
       ".sk-estimator-doc-link,\n",
       "a:link.sk-estimator-doc-link,\n",
       "a:visited.sk-estimator-doc-link {\n",
       "  float: right;\n",
       "  font-size: smaller;\n",
       "  line-height: 1em;\n",
       "  font-family: monospace;\n",
       "  background-color: var(--sklearn-color-background);\n",
       "  border-radius: 1em;\n",
       "  height: 1em;\n",
       "  width: 1em;\n",
       "  text-decoration: none !important;\n",
       "  margin-left: 0.5em;\n",
       "  text-align: center;\n",
       "  /* unfitted */\n",
       "  border: var(--sklearn-color-unfitted-level-1) 1pt solid;\n",
       "  color: var(--sklearn-color-unfitted-level-1);\n",
       "}\n",
       "\n",
       ".sk-estimator-doc-link.fitted,\n",
       "a:link.sk-estimator-doc-link.fitted,\n",
       "a:visited.sk-estimator-doc-link.fitted {\n",
       "  /* fitted */\n",
       "  border: var(--sklearn-color-fitted-level-1) 1pt solid;\n",
       "  color: var(--sklearn-color-fitted-level-1);\n",
       "}\n",
       "\n",
       "/* On hover */\n",
       "div.sk-estimator:hover .sk-estimator-doc-link:hover,\n",
       ".sk-estimator-doc-link:hover,\n",
       "div.sk-label-container:hover .sk-estimator-doc-link:hover,\n",
       ".sk-estimator-doc-link:hover {\n",
       "  /* unfitted */\n",
       "  background-color: var(--sklearn-color-unfitted-level-3);\n",
       "  color: var(--sklearn-color-background);\n",
       "  text-decoration: none;\n",
       "}\n",
       "\n",
       "div.sk-estimator.fitted:hover .sk-estimator-doc-link.fitted:hover,\n",
       ".sk-estimator-doc-link.fitted:hover,\n",
       "div.sk-label-container:hover .sk-estimator-doc-link.fitted:hover,\n",
       ".sk-estimator-doc-link.fitted:hover {\n",
       "  /* fitted */\n",
       "  background-color: var(--sklearn-color-fitted-level-3);\n",
       "  color: var(--sklearn-color-background);\n",
       "  text-decoration: none;\n",
       "}\n",
       "\n",
       "/* Span, style for the box shown on hovering the info icon */\n",
       ".sk-estimator-doc-link span {\n",
       "  display: none;\n",
       "  z-index: 9999;\n",
       "  position: relative;\n",
       "  font-weight: normal;\n",
       "  right: .2ex;\n",
       "  padding: .5ex;\n",
       "  margin: .5ex;\n",
       "  width: min-content;\n",
       "  min-width: 20ex;\n",
       "  max-width: 50ex;\n",
       "  color: var(--sklearn-color-text);\n",
       "  box-shadow: 2pt 2pt 4pt #999;\n",
       "  /* unfitted */\n",
       "  background: var(--sklearn-color-unfitted-level-0);\n",
       "  border: .5pt solid var(--sklearn-color-unfitted-level-3);\n",
       "}\n",
       "\n",
       ".sk-estimator-doc-link.fitted span {\n",
       "  /* fitted */\n",
       "  background: var(--sklearn-color-fitted-level-0);\n",
       "  border: var(--sklearn-color-fitted-level-3);\n",
       "}\n",
       "\n",
       ".sk-estimator-doc-link:hover span {\n",
       "  display: block;\n",
       "}\n",
       "\n",
       "/* \"?\"-specific style due to the `<a>` HTML tag */\n",
       "\n",
       "#sk-container-id-1 a.estimator_doc_link {\n",
       "  float: right;\n",
       "  font-size: 1rem;\n",
       "  line-height: 1em;\n",
       "  font-family: monospace;\n",
       "  background-color: var(--sklearn-color-background);\n",
       "  border-radius: 1rem;\n",
       "  height: 1rem;\n",
       "  width: 1rem;\n",
       "  text-decoration: none;\n",
       "  /* unfitted */\n",
       "  color: var(--sklearn-color-unfitted-level-1);\n",
       "  border: var(--sklearn-color-unfitted-level-1) 1pt solid;\n",
       "}\n",
       "\n",
       "#sk-container-id-1 a.estimator_doc_link.fitted {\n",
       "  /* fitted */\n",
       "  border: var(--sklearn-color-fitted-level-1) 1pt solid;\n",
       "  color: var(--sklearn-color-fitted-level-1);\n",
       "}\n",
       "\n",
       "/* On hover */\n",
       "#sk-container-id-1 a.estimator_doc_link:hover {\n",
       "  /* unfitted */\n",
       "  background-color: var(--sklearn-color-unfitted-level-3);\n",
       "  color: var(--sklearn-color-background);\n",
       "  text-decoration: none;\n",
       "}\n",
       "\n",
       "#sk-container-id-1 a.estimator_doc_link.fitted:hover {\n",
       "  /* fitted */\n",
       "  background-color: var(--sklearn-color-fitted-level-3);\n",
       "}\n",
       "</style><div id=\"sk-container-id-1\" class=\"sk-top-container\"><div class=\"sk-text-repr-fallback\"><pre>LinearRegression()</pre><b>In a Jupyter environment, please rerun this cell to show the HTML representation or trust the notebook. <br />On GitHub, the HTML representation is unable to render, please try loading this page with nbviewer.org.</b></div><div class=\"sk-container\" hidden><div class=\"sk-item\"><div class=\"sk-estimator fitted sk-toggleable\"><input class=\"sk-toggleable__control sk-hidden--visually\" id=\"sk-estimator-id-1\" type=\"checkbox\" checked><label for=\"sk-estimator-id-1\" class=\"sk-toggleable__label fitted sk-toggleable__label-arrow\"><div><div>LinearRegression</div></div><div><a class=\"sk-estimator-doc-link fitted\" rel=\"noreferrer\" target=\"_blank\" href=\"https://scikit-learn.org/1.6/modules/generated/sklearn.linear_model.LinearRegression.html\">?<span>Documentation for LinearRegression</span></a><span class=\"sk-estimator-doc-link fitted\">i<span>Fitted</span></span></div></label><div class=\"sk-toggleable__content fitted\"><pre>LinearRegression()</pre></div> </div></div></div></div>"
      ],
      "text/plain": [
       "LinearRegression()"
      ]
     },
     "execution_count": 11,
     "metadata": {},
     "output_type": "execute_result"
    }
   ],
   "source": [
    "model = LinearRegression()\n",
    "model.fit(X_train_poly, y_train)"
   ]
  },
  {
   "cell_type": "code",
   "execution_count": 12,
   "id": "9f50f0f1",
   "metadata": {},
   "outputs": [],
   "source": [
    "y_train_pred = model.predict(X_train_poly)\n",
    "y_test_pred = model.predict(X_test_poly)"
   ]
  },
  {
   "cell_type": "code",
   "execution_count": 13,
   "id": "e1e2aef6",
   "metadata": {},
   "outputs": [
    {
     "name": "stdout",
     "output_type": "stream",
     "text": [
      "(99, 2)\n",
      "(99,)\n",
      "(18, 2)\n",
      "(18,)\n",
      "(18, 2)\n",
      "(18,)\n"
     ]
    }
   ],
   "source": [
    "print(X_train.shape)\n",
    "print(y_train.shape)\n",
    "print(X_test.shape)\n",
    "print(y_test.shape)\n",
    "print(X_test.shape)\n",
    "print(y_test_pred.shape)"
   ]
  },
  {
   "cell_type": "code",
   "execution_count": 14,
   "id": "70de2706",
   "metadata": {},
   "outputs": [
    {
     "data": {
      "image/png": "[encoded data removed]",
      "text/plain": [
       "<Figure size 640x480 with 1 Axes>"
      ]
     },
     "metadata": {},
     "output_type": "display_data"
    }
   ],
   "source": [
    "plt.scatter(y_test, y_test_pred, color='purple')\n",
    "plt.plot([min(y_test), max(y_test)], [min(y_test), max(y_test)], color='red', linestyle='--')\n",
    "plt.xlabel('Actual y')\n",
    "plt.ylabel('Predicted y')\n",
    "plt.title('Predicted vs Actual on Test Set')\n",
    "plt.grid(True)\n",
    "plt.show()"
   ]
  },
  {
   "cell_type": "code",
   "execution_count": null,
   "id": "7f434f1b",
   "metadata": {},
   "outputs": [],
   "source": []
  }
 ],
 "metadata": {
  "kernelspec": {
   "display_name": ".venv",
   "language": "python",
   "name": "python3"
  },
  "language_info": {
   "codemirror_mode": {
    "name": "ipython",
    "version": 3
   },
   "file_extension": ".py",
   "mimetype": "text/x-python",
   "name": "python",
   "nbconvert_exporter": "python",
   "pygments_lexer": "ipython3",
   "version": "3.10.16"
  }
 },
 "nbformat": 4,
 "nbformat_minor": 5
}
